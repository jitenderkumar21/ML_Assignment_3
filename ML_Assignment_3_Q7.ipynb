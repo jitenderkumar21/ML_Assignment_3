{
  "nbformat": 4,
  "nbformat_minor": 0,
  "metadata": {
    "colab": {
      "name": "ML_Assignment_3_Q7.ipynb",
      "provenance": [],
      "collapsed_sections": []
    },
    "kernelspec": {
      "name": "python3",
      "display_name": "Python 3"
    },
    "language_info": {
      "name": "python"
    }
  },
  "cells": [
    {
      "cell_type": "code",
      "metadata": {
        "colab": {
          "base_uri": "https://localhost:8080/"
        },
        "id": "IM3cb6T8ic9v",
        "outputId": "65d5dafb-e253-4539-b60e-c9f41eb81a8f"
      },
      "source": [
        "pip install selenium"
      ],
      "execution_count": null,
      "outputs": [
        {
          "output_type": "stream",
          "text": [
            "Collecting selenium\n",
            "\u001b[?25l  Downloading https://files.pythonhosted.org/packages/80/d6/4294f0b4bce4de0abf13e17190289f9d0613b0a44e5dd6a7f5ca98459853/selenium-3.141.0-py2.py3-none-any.whl (904kB)\n",
            "\r\u001b[K     |▍                               | 10kB 14.6MB/s eta 0:00:01\r\u001b[K     |▊                               | 20kB 18.8MB/s eta 0:00:01\r\u001b[K     |█                               | 30kB 23.2MB/s eta 0:00:01\r\u001b[K     |█▌                              | 40kB 21.0MB/s eta 0:00:01\r\u001b[K     |█▉                              | 51kB 18.1MB/s eta 0:00:01\r\u001b[K     |██▏                             | 61kB 15.5MB/s eta 0:00:01\r\u001b[K     |██▌                             | 71kB 13.7MB/s eta 0:00:01\r\u001b[K     |███                             | 81kB 13.6MB/s eta 0:00:01\r\u001b[K     |███▎                            | 92kB 12.6MB/s eta 0:00:01\r\u001b[K     |███▋                            | 102kB 12.3MB/s eta 0:00:01\r\u001b[K     |████                            | 112kB 12.3MB/s eta 0:00:01\r\u001b[K     |████▍                           | 122kB 12.3MB/s eta 0:00:01\r\u001b[K     |████▊                           | 133kB 12.3MB/s eta 0:00:01\r\u001b[K     |█████                           | 143kB 12.3MB/s eta 0:00:01\r\u001b[K     |█████▍                          | 153kB 12.3MB/s eta 0:00:01\r\u001b[K     |█████▉                          | 163kB 12.3MB/s eta 0:00:01\r\u001b[K     |██████▏                         | 174kB 12.3MB/s eta 0:00:01\r\u001b[K     |██████▌                         | 184kB 12.3MB/s eta 0:00:01\r\u001b[K     |██████▉                         | 194kB 12.3MB/s eta 0:00:01\r\u001b[K     |███████▎                        | 204kB 12.3MB/s eta 0:00:01\r\u001b[K     |███████▋                        | 215kB 12.3MB/s eta 0:00:01\r\u001b[K     |████████                        | 225kB 12.3MB/s eta 0:00:01\r\u001b[K     |████████▎                       | 235kB 12.3MB/s eta 0:00:01\r\u001b[K     |████████▊                       | 245kB 12.3MB/s eta 0:00:01\r\u001b[K     |█████████                       | 256kB 12.3MB/s eta 0:00:01\r\u001b[K     |█████████▍                      | 266kB 12.3MB/s eta 0:00:01\r\u001b[K     |█████████▉                      | 276kB 12.3MB/s eta 0:00:01\r\u001b[K     |██████████▏                     | 286kB 12.3MB/s eta 0:00:01\r\u001b[K     |██████████▌                     | 296kB 12.3MB/s eta 0:00:01\r\u001b[K     |██████████▉                     | 307kB 12.3MB/s eta 0:00:01\r\u001b[K     |███████████▎                    | 317kB 12.3MB/s eta 0:00:01\r\u001b[K     |███████████▋                    | 327kB 12.3MB/s eta 0:00:01\r\u001b[K     |████████████                    | 337kB 12.3MB/s eta 0:00:01\r\u001b[K     |████████████▎                   | 348kB 12.3MB/s eta 0:00:01\r\u001b[K     |████████████▊                   | 358kB 12.3MB/s eta 0:00:01\r\u001b[K     |█████████████                   | 368kB 12.3MB/s eta 0:00:01\r\u001b[K     |█████████████▍                  | 378kB 12.3MB/s eta 0:00:01\r\u001b[K     |█████████████▊                  | 389kB 12.3MB/s eta 0:00:01\r\u001b[K     |██████████████▏                 | 399kB 12.3MB/s eta 0:00:01\r\u001b[K     |██████████████▌                 | 409kB 12.3MB/s eta 0:00:01\r\u001b[K     |██████████████▉                 | 419kB 12.3MB/s eta 0:00:01\r\u001b[K     |███████████████▏                | 430kB 12.3MB/s eta 0:00:01\r\u001b[K     |███████████████▋                | 440kB 12.3MB/s eta 0:00:01\r\u001b[K     |████████████████                | 450kB 12.3MB/s eta 0:00:01\r\u001b[K     |████████████████▎               | 460kB 12.3MB/s eta 0:00:01\r\u001b[K     |████████████████▋               | 471kB 12.3MB/s eta 0:00:01\r\u001b[K     |█████████████████               | 481kB 12.3MB/s eta 0:00:01\r\u001b[K     |█████████████████▍              | 491kB 12.3MB/s eta 0:00:01\r\u001b[K     |█████████████████▊              | 501kB 12.3MB/s eta 0:00:01\r\u001b[K     |██████████████████▏             | 512kB 12.3MB/s eta 0:00:01\r\u001b[K     |██████████████████▌             | 522kB 12.3MB/s eta 0:00:01\r\u001b[K     |██████████████████▉             | 532kB 12.3MB/s eta 0:00:01\r\u001b[K     |███████████████████▏            | 542kB 12.3MB/s eta 0:00:01\r\u001b[K     |███████████████████▋            | 552kB 12.3MB/s eta 0:00:01\r\u001b[K     |████████████████████            | 563kB 12.3MB/s eta 0:00:01\r\u001b[K     |████████████████████▎           | 573kB 12.3MB/s eta 0:00:01\r\u001b[K     |████████████████████▋           | 583kB 12.3MB/s eta 0:00:01\r\u001b[K     |█████████████████████           | 593kB 12.3MB/s eta 0:00:01\r\u001b[K     |█████████████████████▍          | 604kB 12.3MB/s eta 0:00:01\r\u001b[K     |█████████████████████▊          | 614kB 12.3MB/s eta 0:00:01\r\u001b[K     |██████████████████████          | 624kB 12.3MB/s eta 0:00:01\r\u001b[K     |██████████████████████▌         | 634kB 12.3MB/s eta 0:00:01\r\u001b[K     |██████████████████████▉         | 645kB 12.3MB/s eta 0:00:01\r\u001b[K     |███████████████████████▏        | 655kB 12.3MB/s eta 0:00:01\r\u001b[K     |███████████████████████▌        | 665kB 12.3MB/s eta 0:00:01\r\u001b[K     |████████████████████████        | 675kB 12.3MB/s eta 0:00:01\r\u001b[K     |████████████████████████▎       | 686kB 12.3MB/s eta 0:00:01\r\u001b[K     |████████████████████████▋       | 696kB 12.3MB/s eta 0:00:01\r\u001b[K     |█████████████████████████       | 706kB 12.3MB/s eta 0:00:01\r\u001b[K     |█████████████████████████▍      | 716kB 12.3MB/s eta 0:00:01\r\u001b[K     |█████████████████████████▊      | 727kB 12.3MB/s eta 0:00:01\r\u001b[K     |██████████████████████████      | 737kB 12.3MB/s eta 0:00:01\r\u001b[K     |██████████████████████████▍     | 747kB 12.3MB/s eta 0:00:01\r\u001b[K     |██████████████████████████▉     | 757kB 12.3MB/s eta 0:00:01\r\u001b[K     |███████████████████████████▏    | 768kB 12.3MB/s eta 0:00:01\r\u001b[K     |███████████████████████████▌    | 778kB 12.3MB/s eta 0:00:01\r\u001b[K     |████████████████████████████    | 788kB 12.3MB/s eta 0:00:01\r\u001b[K     |████████████████████████████▎   | 798kB 12.3MB/s eta 0:00:01\r\u001b[K     |████████████████████████████▋   | 808kB 12.3MB/s eta 0:00:01\r\u001b[K     |█████████████████████████████   | 819kB 12.3MB/s eta 0:00:01\r\u001b[K     |█████████████████████████████▍  | 829kB 12.3MB/s eta 0:00:01\r\u001b[K     |█████████████████████████████▊  | 839kB 12.3MB/s eta 0:00:01\r\u001b[K     |██████████████████████████████  | 849kB 12.3MB/s eta 0:00:01\r\u001b[K     |██████████████████████████████▍ | 860kB 12.3MB/s eta 0:00:01\r\u001b[K     |██████████████████████████████▉ | 870kB 12.3MB/s eta 0:00:01\r\u001b[K     |███████████████████████████████▏| 880kB 12.3MB/s eta 0:00:01\r\u001b[K     |███████████████████████████████▌| 890kB 12.3MB/s eta 0:00:01\r\u001b[K     |███████████████████████████████▉| 901kB 12.3MB/s eta 0:00:01\r\u001b[K     |████████████████████████████████| 911kB 12.3MB/s \n",
            "\u001b[?25hRequirement already satisfied: urllib3 in /usr/local/lib/python3.7/dist-packages (from selenium) (1.24.3)\n",
            "Installing collected packages: selenium\n",
            "Successfully installed selenium-3.141.0\n"
          ],
          "name": "stdout"
        }
      ]
    },
    {
      "cell_type": "code",
      "metadata": {
        "id": "P7ffRoLH3X_h"
      },
      "source": [
        "from os import makedirs\n",
        "# create directories\n",
        "dataset_home = '/content/drive/MyDrive/Sem_6_jeetu/ML/dataset_kangaroo_vs_jellyfish/'\n",
        "subdirs = ['train/', 'test/']\n",
        "for subdir in subdirs:\n",
        "\t# create label subdirectories\n",
        "\tlabeldirs = ['kangaroo/', 'jellyfish/']\n",
        "\tfor labldir in labeldirs:\n",
        "\t\tnewdir = dataset_home + subdir + labldir\n",
        "\t\tmakedirs(newdir, exist_ok=True)"
      ],
      "execution_count": null,
      "outputs": []
    },
    {
      "cell_type": "code",
      "metadata": {
        "id": "jkj1y45_usRU"
      },
      "source": [
        "from os import listdir\n",
        "from numpy import asarray\n",
        "from numpy import save\n",
        "from shutil import copyfile\n",
        "from keras.preprocessing.image import load_img\n",
        "from keras.preprocessing.image import img_to_array\n",
        "\n",
        "# define location of dataset\n",
        "jellyfish_folder = '/content/drive/MyDrive/Sem_6_jeetu/ML/images/Jelly_fish/train/'\n",
        "kangaroo_folder = '/content/drive/MyDrive/Sem_6_jeetu/ML/images/Kangaroo/train/'\n",
        "photos = [] \n",
        "labels = []\n",
        "jt_f = '/content/drive/MyDrive/Sem_6_jeetu/ML/images/Jelly_fish/test/'\n",
        "kt_f = '/content/drive/MyDrive/Sem_6_jeetu/ML/images/Kangaroo/test/'\n",
        "# enumerate files in the directory\n",
        "\n",
        "for file in listdir(kangaroo_folder):\n",
        "  src = kangaroo_folder + file\n",
        "  dest = '/content/drive/MyDrive/Sem_6_jeetu/ML/dataset_kangaroo_vs_jellyfish/train/kangaroo/' + file\n",
        "  copyfile(src,dest)\n",
        "for file in listdir(jellyfish_folder):\n",
        "  src = jellyfish_folder + file\n",
        "  dest = '/content/drive/MyDrive/Sem_6_jeetu/ML/dataset_kangaroo_vs_jellyfish/train/jellyfish/' + file\n",
        "  copyfile(src,dest)\n",
        "\n",
        "for file in listdir(kt_f):\n",
        "  src = kt_f + file\n",
        "  dest = '/content/drive/MyDrive/Sem_6_jeetu/ML/dataset_kangaroo_vs_jellyfish/test/kangaroo/' + file\n",
        "  copyfile(src,dest)\n",
        "\n",
        "for file in listdir(jt_f):\n",
        "  src = jt_f + file\n",
        "  dest = '/content/drive/MyDrive/Sem_6_jeetu/ML/dataset_kangaroo_vs_jellyfish/test/jellyfish/' + file\n",
        "  copyfile(src,dest)"
      ],
      "execution_count": null,
      "outputs": []
    },
    {
      "cell_type": "code",
      "metadata": {
        "colab": {
          "base_uri": "https://localhost:8080/"
        },
        "id": "zzXQTgDW7BPk",
        "outputId": "06fb65b1-3492-4d96-ef87-8b6e2cb81c9c"
      },
      "source": [
        "# baseline model for the dogs vs cats dataset\n",
        "import sys\n",
        "from matplotlib import pyplot\n",
        "from keras.utils import to_categorical\n",
        "from keras.models import Sequential\n",
        "from keras.layers import Conv2D\n",
        "from keras.layers import MaxPooling2D\n",
        "from keras.layers import Dense\n",
        "from keras.layers import Flatten\n",
        "from keras.optimizers import SGD\n",
        "from keras.preprocessing.image import ImageDataGenerator\n",
        "\n",
        "# define cnn model\n",
        "def define_model():\n",
        "\tmodel = Sequential()\n",
        "\tmodel.add(Conv2D(32, (3, 3), activation='relu', kernel_initializer='he_uniform', padding='same', input_shape=(200, 200, 3)))\n",
        "\tmodel.add(MaxPooling2D((2, 2)))\n",
        "\tmodel.add(Flatten())\n",
        "\tmodel.add(Dense(128, activation='relu', kernel_initializer='he_uniform'))\n",
        "\tmodel.add(Dense(1, activation='sigmoid'))\n",
        "\t# compile model\n",
        "\topt = SGD(lr=0.001, momentum=0.9)\n",
        "\tmodel.compile(optimizer=opt, loss='binary_crossentropy', metrics=['accuracy'])\n",
        "\treturn model\n",
        "\n",
        "# plot diagnostic learning curves\n",
        "def summarize_diagnostics(history):\n",
        "\t# plot loss\n",
        "\tpyplot.subplot(211)\n",
        "\tpyplot.title('Cross Entropy Loss')\n",
        "\tpyplot.plot(history.history['loss'], color='blue', label='train')\n",
        "\tpyplot.plot(history.history['val_loss'], color='orange', label='test')\n",
        "\t# plot accuracy\n",
        "\tpyplot.subplot(212)\n",
        "\tpyplot.title('Classification Accuracy')\n",
        "\tpyplot.plot(history.history['accuracy'], color='blue', label='train')\n",
        "\tpyplot.plot(history.history['val_accuracy'], color='orange', label='test')\n",
        "\t# save plot to file\n",
        "\tfilename = sys.argv[0].split('/')[-1]\n",
        "\tpyplot.savefig(filename + '_plot.png')\n",
        "\tpyplot.close()\n",
        "\n",
        "# run the test harness for evaluating a model\n",
        "def run_test_harness():\n",
        "\t# define model\n",
        "\tmodel = define_model()\n",
        "\t# create data generator\n",
        "\tdatagen = ImageDataGenerator(rescale=1.0/255.0)\n",
        "\t# prepare iterators\n",
        "\ttrain_it = datagen.flow_from_directory('/content/drive/MyDrive/Sem_6_jeetu/ML/dataset_kangaroo_vs_jellyfish/train/',\n",
        "\t\tclass_mode='binary', batch_size=64, target_size=(200, 200))\n",
        "\ttest_it = datagen.flow_from_directory('/content/drive/MyDrive/Sem_6_jeetu/ML/dataset_kangaroo_vs_jellyfish/test/',\n",
        "\t\tclass_mode='binary', batch_size=64, target_size=(200, 200))\n",
        "\t# fit model\n",
        "\thistory = model.fit_generator(train_it, steps_per_epoch=len(train_it),\n",
        "\t\tvalidation_data=test_it, validation_steps=len(test_it), epochs=20, verbose=0)\n",
        "\t# evaluate model\n",
        "\t_, acc = model.evaluate_generator(test_it, steps=len(test_it), verbose=0)\n",
        "\tprint('> %.3f' % (acc * 100.0))\n",
        "\t# learning curves\n",
        "\tsummarize_diagnostics(history)\n",
        "\n",
        "# entry point, run the test harness\n",
        "run_test_harness()"
      ],
      "execution_count": null,
      "outputs": [
        {
          "output_type": "stream",
          "text": [
            "Found 60 images belonging to 2 classes.\n",
            "Found 20 images belonging to 2 classes.\n"
          ],
          "name": "stdout"
        },
        {
          "output_type": "stream",
          "text": [
            "/usr/local/lib/python3.7/dist-packages/tensorflow/python/keras/engine/training.py:1844: UserWarning: `Model.fit_generator` is deprecated and will be removed in a future version. Please use `Model.fit`, which supports generators.\n",
            "  warnings.warn('`Model.fit_generator` is deprecated and '\n",
            "/usr/local/lib/python3.7/dist-packages/tensorflow/python/keras/engine/training.py:1877: UserWarning: `Model.evaluate_generator` is deprecated and will be removed in a future version. Please use `Model.evaluate`, which supports generators.\n",
            "  warnings.warn('`Model.evaluate_generator` is deprecated and '\n"
          ],
          "name": "stderr"
        },
        {
          "output_type": "stream",
          "text": [
            "> 90.000\n"
          ],
          "name": "stdout"
        }
      ]
    },
    {
      "cell_type": "code",
      "metadata": {
        "colab": {
          "base_uri": "https://localhost:8080/"
        },
        "id": "n1isO_9oOD6a",
        "outputId": "253c5299-dac2-4c6e-fe47-59475e32fb5b"
      },
      "source": [
        "# VGG1 with data augmentation for kangaroo vs jellyfish dataset\n",
        "import sys\n",
        "from matplotlib import pyplot\n",
        "from keras.utils import to_categorical\n",
        "from keras.models import Sequential\n",
        "from keras.layers import Conv2D\n",
        "from keras.layers import MaxPooling2D\n",
        "from keras.layers import Dense\n",
        "from keras.layers import Flatten\n",
        "from keras.optimizers import SGD\n",
        "from keras.preprocessing.image import ImageDataGenerator\n",
        " \n",
        "# define cnn model\n",
        "def define_model():\n",
        "\tmodel = Sequential()\n",
        "\tmodel.add(Conv2D(32, (3, 3), activation='relu', kernel_initializer='he_uniform', padding='same', input_shape=(200, 200, 3)))\n",
        "\tmodel.add(MaxPooling2D((2, 2)))\n",
        "\tmodel.add(Flatten())\n",
        "\tmodel.add(Dense(128, activation='relu', kernel_initializer='he_uniform'))\n",
        "\tmodel.add(Dense(1, activation='sigmoid'))\n",
        "\t# compile model\n",
        "\topt = SGD(lr=0.001, momentum=0.9)\n",
        "\tmodel.compile(optimizer=opt, loss='binary_crossentropy', metrics=['accuracy'])\n",
        "\treturn model\n",
        " \n",
        "# plot diagnostic learning curves\n",
        "def summarize_diagnostics(history):\n",
        "\t# plot loss\n",
        "\tpyplot.subplot(211)\n",
        "\tpyplot.title('Cross Entropy Loss')\n",
        "\tpyplot.plot(history.history['loss'], color='blue', label='train')\n",
        "\tpyplot.plot(history.history['val_loss'], color='orange', label='test')\n",
        "\t# plot accuracy\n",
        "\tpyplot.subplot(212)\n",
        "\tpyplot.title('Classification Accuracy')\n",
        "\tpyplot.plot(history.history['accuracy'], color='blue', label='train')\n",
        "\tpyplot.plot(history.history['val_accuracy'], color='orange', label='test')\n",
        "\t# save plot to file\n",
        "\tfilename = sys.argv[0].split('/')[-1]\n",
        "\tpyplot.savefig(filename + '_plot.png')\n",
        "\tpyplot.close()\n",
        " \n",
        "# run the test harness for evaluating a model\n",
        "def run_test_harness():\n",
        "\t# define model\n",
        "\tmodel = define_model()\n",
        "\t# create data generators\n",
        "\ttrain_datagen = ImageDataGenerator(rescale=1.0/255.0,\n",
        "\t\twidth_shift_range=0.1, height_shift_range=0.1, horizontal_flip=True)\n",
        "\ttest_datagen = ImageDataGenerator(rescale=1.0/255.0)\n",
        "\t# prepare iterators\n",
        "\ttrain_it = train_datagen.flow_from_directory('/content/drive/MyDrive/Sem_6_jeetu/ML/dataset_kangaroo_vs_jellyfish/train/',\n",
        "\t\tclass_mode='binary', batch_size=64, target_size=(200, 200))\n",
        "\ttest_it = test_datagen.flow_from_directory('/content/drive/MyDrive/Sem_6_jeetu/ML/dataset_kangaroo_vs_jellyfish/test/',\n",
        "\t\tclass_mode='binary', batch_size=64, target_size=(200, 200))\n",
        "\t# fit model\n",
        "\thistory = model.fit_generator(train_it, steps_per_epoch=len(train_it),\n",
        "\t\tvalidation_data=test_it, validation_steps=len(test_it), epochs=50, verbose=0)\n",
        "\t# evaluate model\n",
        "\t_, acc = model.evaluate_generator(test_it, steps=len(test_it), verbose=0)\n",
        "\tprint('> %.3f' % (acc * 100.0))\n",
        "\t# learning curves\n",
        "\tsummarize_diagnostics(history)\n",
        " \n",
        "# entry point, run the test harness\n",
        "run_test_harness()"
      ],
      "execution_count": null,
      "outputs": [
        {
          "output_type": "stream",
          "text": [
            "Found 60 images belonging to 2 classes.\n",
            "Found 20 images belonging to 2 classes.\n"
          ],
          "name": "stdout"
        },
        {
          "output_type": "stream",
          "text": [
            "/usr/local/lib/python3.7/dist-packages/tensorflow/python/keras/engine/training.py:1844: UserWarning: `Model.fit_generator` is deprecated and will be removed in a future version. Please use `Model.fit`, which supports generators.\n",
            "  warnings.warn('`Model.fit_generator` is deprecated and '\n",
            "/usr/local/lib/python3.7/dist-packages/tensorflow/python/keras/engine/training.py:1877: UserWarning: `Model.evaluate_generator` is deprecated and will be removed in a future version. Please use `Model.evaluate`, which supports generators.\n",
            "  warnings.warn('`Model.evaluate_generator` is deprecated and '\n"
          ],
          "name": "stderr"
        },
        {
          "output_type": "stream",
          "text": [
            "> 95.000\n"
          ],
          "name": "stdout"
        }
      ]
    },
    {
      "cell_type": "code",
      "metadata": {
        "colab": {
          "base_uri": "https://localhost:8080/"
        },
        "id": "QsgsQL2jPMYb",
        "outputId": "cf9cd601-ad90-4470-8a19-f638a7b20f14"
      },
      "source": [
        "# vgg16 model used for transfer learning on the kangaroo vs jellyfish dataset\n",
        "import sys\n",
        "from matplotlib import pyplot\n",
        "from keras.utils import to_categorical\n",
        "from keras.applications.vgg16 import VGG16\n",
        "from keras.models import Model\n",
        "from keras.layers import Dense\n",
        "from keras.layers import Flatten\n",
        "from keras.optimizers import SGD\n",
        "from keras.preprocessing.image import ImageDataGenerator\n",
        " \n",
        "# define cnn model\n",
        "def define_model():\n",
        "\t# load model\n",
        "\tmodel = VGG16(include_top=False, input_shape=(224, 224, 3))\n",
        "\t# mark loaded layers as not trainable\n",
        "\tfor layer in model.layers:\n",
        "\t\tlayer.trainable = False\n",
        "\t# add new classifier layers\n",
        "\tflat1 = Flatten()(model.layers[-1].output)\n",
        "\tclass1 = Dense(128, activation='relu', kernel_initializer='he_uniform')(flat1)\n",
        "\toutput = Dense(1, activation='sigmoid')(class1)\n",
        "\t# define new model\n",
        "\tmodel = Model(inputs=model.inputs, outputs=output)\n",
        "\t# compile model\n",
        "\topt = SGD(lr=0.001, momentum=0.9)\n",
        "\tmodel.compile(optimizer=opt, loss='binary_crossentropy', metrics=['accuracy'])\n",
        "\treturn model\n",
        " \n",
        "# plot diagnostic learning curves\n",
        "def summarize_diagnostics(history):\n",
        "\t# plot loss\n",
        "\tpyplot.subplot(211)\n",
        "\tpyplot.title('Cross Entropy Loss')\n",
        "\tpyplot.plot(history.history['loss'], color='blue', label='train')\n",
        "\tpyplot.plot(history.history['val_loss'], color='orange', label='test')\n",
        "\t# plot accuracy\n",
        "\tpyplot.subplot(212)\n",
        "\tpyplot.title('Classification Accuracy')\n",
        "\tpyplot.plot(history.history['accuracy'], color='blue', label='train')\n",
        "\tpyplot.plot(history.history['val_accuracy'], color='orange', label='test')\n",
        "\t# save plot to file\n",
        "\tfilename = sys.argv[0].split('/')[-1]\n",
        "\tpyplot.savefig(filename + '_plot.png')\n",
        "\tpyplot.close()\n",
        " \n",
        "# run the test harness for evaluating a model\n",
        "def run_test_harness():\n",
        "\t# define model\n",
        "\tmodel = define_model()\n",
        "\t# create data generator\n",
        "\tdatagen = ImageDataGenerator(featurewise_center=True)\n",
        "\t# specify imagenet mean values for centering\n",
        "\tdatagen.mean = [123.68, 116.779, 103.939]\n",
        "\t# prepare iterator\n",
        "\ttrain_it = datagen.flow_from_directory('/content/drive/MyDrive/Sem_6_jeetu/ML/dataset_kangaroo_vs_jellyfish/train/',\n",
        "\t\tclass_mode='binary', batch_size=64, target_size=(224, 224))\n",
        "\ttest_it = datagen.flow_from_directory('/content/drive/MyDrive/Sem_6_jeetu/ML/dataset_kangaroo_vs_jellyfish/test/',\n",
        "\t\tclass_mode='binary', batch_size=64, target_size=(224, 224))\n",
        "\t# fit model\n",
        "\thistory = model.fit_generator(train_it, steps_per_epoch=len(train_it),\n",
        "\t\tvalidation_data=test_it, validation_steps=len(test_it), epochs=10, verbose=1)\n",
        "\t# evaluate model\n",
        "\t_, acc = model.evaluate_generator(test_it, steps=len(test_it), verbose=0)\n",
        "\tprint('> %.3f' % (acc * 100.0))\n",
        "\t# learning curves\n",
        "\tsummarize_diagnostics(history)\n",
        " \n",
        "# entry point, run the test harness\n",
        "run_test_harness()"
      ],
      "execution_count": null,
      "outputs": [
        {
          "output_type": "stream",
          "text": [
            "Downloading data from https://storage.googleapis.com/tensorflow/keras-applications/vgg16/vgg16_weights_tf_dim_ordering_tf_kernels_notop.h5\n",
            "58892288/58889256 [==============================] - 1s 0us/step\n",
            "Found 60 images belonging to 2 classes.\n",
            "Found 20 images belonging to 2 classes.\n"
          ],
          "name": "stdout"
        },
        {
          "output_type": "stream",
          "text": [
            "/usr/local/lib/python3.7/dist-packages/tensorflow/python/keras/engine/training.py:1844: UserWarning: `Model.fit_generator` is deprecated and will be removed in a future version. Please use `Model.fit`, which supports generators.\n",
            "  warnings.warn('`Model.fit_generator` is deprecated and '\n"
          ],
          "name": "stderr"
        },
        {
          "output_type": "stream",
          "text": [
            "Epoch 1/10\n",
            "1/1 [==============================] - 27s 27s/step - loss: 5.1003 - accuracy: 0.5500 - val_loss: 4.2653e-06 - val_accuracy: 1.0000\n",
            "Epoch 2/10\n",
            "1/1 [==============================] - 26s 26s/step - loss: 0.0080 - accuracy: 1.0000 - val_loss: 5.9825e-09 - val_accuracy: 1.0000\n",
            "Epoch 3/10\n",
            "1/1 [==============================] - 26s 26s/step - loss: 7.9954e-14 - accuracy: 1.0000 - val_loss: 2.4192e-11 - val_accuracy: 1.0000\n",
            "Epoch 4/10\n",
            "1/1 [==============================] - 26s 26s/step - loss: 6.1018e-20 - accuracy: 1.0000 - val_loss: 1.8424e-13 - val_accuracy: 1.0000\n",
            "Epoch 5/10\n",
            "1/1 [==============================] - 26s 26s/step - loss: 3.1450e-23 - accuracy: 1.0000 - val_loss: 3.2077e-15 - val_accuracy: 1.0000\n",
            "Epoch 6/10\n",
            "1/1 [==============================] - 26s 26s/step - loss: 3.2713e-26 - accuracy: 1.0000 - val_loss: 1.0347e-16 - val_accuracy: 1.0000\n",
            "Epoch 7/10\n",
            "1/1 [==============================] - 26s 26s/step - loss: 6.8863e-29 - accuracy: 1.0000 - val_loss: 5.7770e-18 - val_accuracy: 1.0000\n",
            "Epoch 8/10\n",
            "1/1 [==============================] - 26s 26s/step - loss: 2.7058e-31 - accuracy: 1.0000 - val_loss: 3.8934e-19 - val_accuracy: 1.0000\n",
            "Epoch 9/10\n",
            "1/1 [==============================] - 26s 26s/step - loss: 1.5910e-33 - accuracy: 1.0000 - val_loss: 3.1911e-20 - val_accuracy: 1.0000\n",
            "Epoch 10/10\n",
            "1/1 [==============================] - 26s 26s/step - loss: 1.6585e-35 - accuracy: 1.0000 - val_loss: 2.9765e-21 - val_accuracy: 1.0000\n"
          ],
          "name": "stdout"
        },
        {
          "output_type": "stream",
          "text": [
            "/usr/local/lib/python3.7/dist-packages/tensorflow/python/keras/engine/training.py:1877: UserWarning: `Model.evaluate_generator` is deprecated and will be removed in a future version. Please use `Model.evaluate`, which supports generators.\n",
            "  warnings.warn('`Model.evaluate_generator` is deprecated and '\n"
          ],
          "name": "stderr"
        },
        {
          "output_type": "stream",
          "text": [
            "> 100.000\n"
          ],
          "name": "stdout"
        }
      ]
    }
  ]
}